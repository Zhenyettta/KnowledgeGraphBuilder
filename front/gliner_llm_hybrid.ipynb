{
 "cells": [
  {
   "cell_type": "code",
   "execution_count": null,
   "id": "initial_id",
   "metadata": {
    "collapsed": true
   },
   "outputs": [],
   "source": [
    "import os\n",
    "from dataclasses import asdict\n",
    "import torch\n",
    "from transformers import AutoTokenizer, AutoModelForSequenceClassification\n",
    "from typing import List, Dict, Any, Tuple\n",
    "import json\n",
    "from kgg.models import Document, ProcessedDocument\n",
    "from kgg.nodes.entity_extraction import GLiNEREntitiesGenerator\n",
    "import openai"
   ]
  },
  {
   "metadata": {},
   "cell_type": "code",
   "outputs": [],
   "execution_count": null,
   "source": [
    "class GLiNERLLMHybridGenerator:\n",
    "    def __init__(self, openai_api_key: str, model: str = \"gpt-3.5-turbo\"):\n",
    "        \"\"\"\n",
    "        Initialize hybrid generator that combines GLiNER and LLM capabilities\n",
    "        \n",
    "        Args:\n",
    "            openai_api_key: OpenAI API key for LLM integration\n",
    "            model: LLM model to use\n",
    "        \"\"\"\n",
    "        self.gliner = GLiNEREntitiesGenerator()\n",
    "        self.model = model\n",
    "        openai.api_key = openai_api_key\n",
    "        \n",
    "    def _extract_entities(self, document: Document) -> List[Dict[str, Any]]:\n",
    "        \"\"\"Extract entities using GLiNER\"\"\"\n",
    "        processed = self.gliner.invoke({\"document\": document, \"schema\": None})\n",
    "        return processed.entities\n",
    "    \n",
    "    def _generate_relations_prompt(self, text: str, entities: List[Dict[str, Any]]) -> str:\n",
    "        \"\"\"Generate prompt for LLM to extract relations\"\"\"\n",
    "        prompt = f\"\"\"Given the following text and extracted entities, identify meaningful relationships between the entities.\n",
    "        Format the output as a list of JSON objects with 'subject', 'relation', and 'object' fields.\n",
    "        \n",
    "        Text: {text}"
   ],
   "id": "812b808f00db36ce"
  }
 ],
 "metadata": {
  "kernelspec": {
   "display_name": "Python 3",
   "language": "python",
   "name": "python3"
  },
  "language_info": {
   "codemirror_mode": {
    "name": "ipython",
    "version": 2
   },
   "file_extension": ".py",
   "mimetype": "text/x-python",
   "name": "python",
   "nbconvert_exporter": "python",
   "pygments_lexer": "ipython2",
   "version": "2.7.6"
  }
 },
 "nbformat": 4,
 "nbformat_minor": 5
}
