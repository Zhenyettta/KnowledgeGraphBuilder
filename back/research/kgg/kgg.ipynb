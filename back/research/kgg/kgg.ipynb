{
 "cells": [
  {
   "cell_type": "code",
   "id": "initial_id",
   "metadata": {
    "collapsed": true,
    "ExecuteTime": {
     "end_time": "2025-01-25T15:18:56.696719Z",
     "start_time": "2025-01-25T15:18:56.693132Z"
    }
   },
   "source": [
    "from langchain_core.runnables import RunnableParallel\n",
    "\n",
    "from kgg.nodes.entity_extraction import GLiNEREntitiesGenerator\n",
    "from kgg.nodes.ner_schema_generator import ConstantNERSchemaGenerator"
   ],
   "outputs": [],
   "execution_count": 15
  },
  {
   "metadata": {
    "ExecuteTime": {
     "end_time": "2025-01-25T15:18:56.783867Z",
     "start_time": "2025-01-25T15:18:56.706245Z"
    }
   },
   "cell_type": "code",
   "source": "chain = ConstantNERSchemaGenerator([\"Person\", \"Date\", \"Location\"]) | (lambda x: print(x))",
   "id": "95672605c398e460",
   "outputs": [],
   "execution_count": 16
  },
  {
   "metadata": {
    "ExecuteTime": {
     "end_time": "2025-01-25T15:18:56.796045Z",
     "start_time": "2025-01-25T15:18:56.790953Z"
    }
   },
   "cell_type": "code",
   "source": "chain.invoke(None)",
   "id": "690a7782fa9ec0dc",
   "outputs": [
    {
     "name": "stdout",
     "output_type": "stream",
     "text": [
      "NERSchema(labels=['Person', 'Date', 'Location'])\n"
     ]
    }
   ],
   "execution_count": 17
  },
  {
   "metadata": {
    "ExecuteTime": {
     "end_time": "2025-01-25T15:18:56.808777Z",
     "start_time": "2025-01-25T15:18:56.805953Z"
    }
   },
   "cell_type": "code",
   "source": "generator = ConstantNERSchemaGenerator([\"Person\", \"Date\", \"Location\"])",
   "id": "3c752c5c8dcaa5e7",
   "outputs": [],
   "execution_count": 18
  },
  {
   "metadata": {
    "ExecuteTime": {
     "end_time": "2025-01-25T15:18:56.825444Z",
     "start_time": "2025-01-25T15:18:56.820798Z"
    }
   },
   "cell_type": "code",
   "source": "generator.input_schema.model_json_schema()",
   "id": "fa4befd66e4033b8",
   "outputs": [
    {
     "data": {
      "text/plain": [
       "{'$defs': {'RawDocument': {'properties': {'text': {'title': 'Text',\n",
       "     'type': 'string'},\n",
       "    'metadata': {'title': 'Metadata', 'type': 'object'}},\n",
       "   'required': ['text'],\n",
       "   'title': 'RawDocument',\n",
       "   'type': 'object'}},\n",
       " '$ref': '#/$defs/RawDocument',\n",
       " 'title': 'ConstantNERSchemaGeneratorInput'}"
      ]
     },
     "execution_count": 19,
     "metadata": {},
     "output_type": "execute_result"
    }
   ],
   "execution_count": 19
  },
  {
   "metadata": {
    "ExecuteTime": {
     "end_time": "2025-01-25T15:18:56.894434Z",
     "start_time": "2025-01-25T15:18:56.891405Z"
    }
   },
   "cell_type": "code",
   "source": [
    "from kgg.models import RawDocument\n",
    "\n",
    "document = RawDocument(text=\"John Doe was born on 01/01/2000 in New York.\")"
   ],
   "id": "cc2c31ddb997108e",
   "outputs": [],
   "execution_count": 20
  },
  {
   "metadata": {
    "ExecuteTime": {
     "end_time": "2025-01-25T15:19:01.547437Z",
     "start_time": "2025-01-25T15:18:56.909311Z"
    }
   },
   "cell_type": "code",
   "source": [
    "from langchain_core.runnables import RunnablePassthrough\n",
    "chain = RunnableParallel({\n",
    "    \"schema\": ConstantNERSchemaGenerator([\"Person\", \"Date\", \"Location\"]),\n",
    "    \"document\": RunnablePassthrough()\n",
    "}) | GLiNEREntitiesGenerator() | (lambda x: print(x))"
   ],
   "id": "26527f8a8d2630a3",
   "outputs": [
    {
     "name": "stderr",
     "output_type": "stream",
     "text": [
      "Fetching 5 files: 100%|██████████| 5/5 [00:00<?, ?it/s]\n",
      "C:\\Users\\zheck\\miniconda3\\envs\\Dyplom\\Lib\\site-packages\\transformers\\convert_slow_tokenizer.py:561: UserWarning: The sentencepiece tokenizer that you are converting to a fast tokenizer uses the byte fallback option which is not implemented in the fast tokenizers. In practice this means that the fast version of the tokenizer can produce unknown tokens whereas the sentencepiece version would have converted these unknown tokens into a sequence of byte tokens matching the original piece of text.\n",
      "  warnings.warn(\n"
     ]
    }
   ],
   "execution_count": 21
  },
  {
   "metadata": {
    "ExecuteTime": {
     "end_time": "2025-01-25T15:19:01.711Z",
     "start_time": "2025-01-25T15:19:01.550957Z"
    }
   },
   "cell_type": "code",
   "source": "chain.invoke(document)",
   "id": "b0e0d64d0237b3ec",
   "outputs": [
    {
     "name": "stderr",
     "output_type": "stream",
     "text": [
      "Asking to truncate to max_length but no maximum length is provided and the model has no predefined maximum length. Default to no truncation.\n"
     ]
    },
    {
     "name": "stdout",
     "output_type": "stream",
     "text": [
      "NERDocument(document=RawDocument(text='John Doe was born on 01/01/2000 in New York.', metadata={}), entities=[Entity(token_start_idx=0, token_end_idx=1, label='Person', text='John Doe'), Entity(token_start_idx=5, token_end_idx=5, label='Date', text='01/01/2000'), Entity(token_start_idx=7, token_end_idx=8, label='Location', text='New York')])\n"
     ]
    }
   ],
   "execution_count": 22
  }
 ],
 "metadata": {
  "kernelspec": {
   "display_name": "Python 3",
   "language": "python",
   "name": "python3"
  },
  "language_info": {
   "codemirror_mode": {
    "name": "ipython",
    "version": 2
   },
   "file_extension": ".py",
   "mimetype": "text/x-python",
   "name": "python",
   "nbconvert_exporter": "python",
   "pygments_lexer": "ipython2",
   "version": "2.7.6"
  }
 },
 "nbformat": 4,
 "nbformat_minor": 5
}
